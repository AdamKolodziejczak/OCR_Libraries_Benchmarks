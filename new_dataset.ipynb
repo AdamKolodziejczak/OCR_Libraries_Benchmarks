{
 "cells": [
  {
   "cell_type": "code",
   "execution_count": null,
   "metadata": {},
   "outputs": [],
   "source": [
    "#%pip install kagglehub\n",
    "import kagglehub\n",
    "from kagglehub import KaggleDatasetAdapter"
   ]
  },
  {
   "cell_type": "code",
   "execution_count": 9,
   "metadata": {},
   "outputs": [
    {
     "name": "stderr",
     "output_type": "stream",
     "text": [
      "C:\\Users\\tyson\\AppData\\Local\\Temp\\ipykernel_18892\\2912609907.py:5: DeprecationWarning: load_dataset is deprecated and will be removed in future version.\n",
      "  df = kagglehub.load_dataset(\n"
     ]
    },
    {
     "name": "stdout",
     "output_type": "stream",
     "text": [
      "First 5 records:         FILENAME  IDENTITY\n",
      "0  TEST_0001.jpg     KEVIN\n",
      "1  TEST_0002.jpg  CLOTAIRE\n",
      "2  TEST_0003.jpg      LENA\n",
      "3  TEST_0004.jpg     JULES\n",
      "4  TEST_0005.jpg   CHERPIN\n"
     ]
    }
   ],
   "source": [
    "# Example\n",
    "file_path = \"written_name_test_v2.csv\"\n",
    "\n",
    "# Load the latest version\n",
    "df = kagglehub.load_dataset(\n",
    "  KaggleDatasetAdapter.PANDAS,\n",
    "  \"landlord/handwriting-recognition\",\n",
    "  file_path,\n",
    "  # Provide any additional arguments like \n",
    "  # sql_query or pandas_kwargs. See the \n",
    "  # documenation for more information:\n",
    "  # https://github.com/Kaggle/kagglehub/blob/main/README.md#kaggledatasetadapterpandas\n",
    ")\n",
    "\n",
    "print(\"First 5 records:\", df.head())"
   ]
  },
  {
   "cell_type": "code",
   "execution_count": null,
   "metadata": {},
   "outputs": [],
   "source": [
    "# Remove all existing TensorFlow installations\n",
    "#%pip uninstall -y tensorflow tensorflow-cpu tensorflow-gpu protobuf keras-ocr\n",
    "#%pip cache purge\n",
    "\n",
    "# Install specific versions with --no-deps to prevent auto-upgrades\n",
    "#%pip install tensorflow-gpu==2.10.0 --no-deps\n",
    "#%pip install tensorflow-cpu==2.10.0 --no-deps\n",
    "#%pip install tensorflow==2.10.0 --no-deps\n",
    "#%pip install protobuf==3.20.3 --no-deps\n",
    "#%pip install python-Levenshtein\n",
    "#%pip install pytesseract\n",
    "#%pip install easyocr\n",
    "#%pip uninstall keras-ocr\n",
    "#%pip install keras-ocr"
   ]
  },
  {
   "cell_type": "markdown",
   "metadata": {},
   "source": [
    "# Pytesseract"
   ]
  },
  {
   "cell_type": "code",
   "execution_count": null,
   "metadata": {},
   "outputs": [],
   "source": []
  }
 ],
 "metadata": {
  "kernelspec": {
   "display_name": "Python 3",
   "language": "python",
   "name": "python3"
  },
  "language_info": {
   "codemirror_mode": {
    "name": "ipython",
    "version": 3
   },
   "file_extension": ".py",
   "mimetype": "text/x-python",
   "name": "python",
   "nbconvert_exporter": "python",
   "pygments_lexer": "ipython3",
   "version": "3.9.12"
  }
 },
 "nbformat": 4,
 "nbformat_minor": 2
}
